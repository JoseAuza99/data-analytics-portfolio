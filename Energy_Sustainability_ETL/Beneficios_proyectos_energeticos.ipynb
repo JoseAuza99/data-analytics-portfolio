{
  "nbformat": 4,
  "nbformat_minor": 0,
  "metadata": {
    "colab": {
      "provenance": []
    },
    "kernelspec": {
      "name": "python3",
      "display_name": "Python 3"
    },
    "language_info": {
      "name": "python"
    }
  },
  "cells": [
    {
      "cell_type": "markdown",
      "source": [
        "# **Proyecto Final**"
      ],
      "metadata": {
        "id": "Kkd0tgQqPhpu"
      }
    },
    {
      "cell_type": "markdown",
      "source": [
        "## **Creamos la sesion de spark**"
      ],
      "metadata": {
        "id": "Ahk6PRxWPmN9"
      }
    },
    {
      "cell_type": "markdown",
      "source": [
        "______"
      ],
      "metadata": {
        "id": "-ldd0sWDPqLZ"
      }
    },
    {
      "cell_type": "code",
      "execution_count": 4,
      "metadata": {
        "colab": {
          "base_uri": "https://localhost:8080/"
        },
        "id": "_mt2rK23Pd49",
        "outputId": "964117c0-6b4b-4249-ed5e-50e62a91c96d"
      },
      "outputs": [
        {
          "output_type": "stream",
          "name": "stdout",
          "text": [
            "W: Skipping acquire of configured file 'main/source/Sources' as repository 'https://r2u.stat.illinois.edu/ubuntu jammy InRelease' does not seem to provide it (sources.list entry misspelt?)\n",
            "  % Total    % Received % Xferd  Average Speed   Time    Time     Time  Current\n",
            "                                 Dload  Upload   Total   Spent    Left  Speed\n",
            "100  381M  100  381M    0     0   180k      0  0:36:01  0:36:01 --:--:--  206k\n",
            "-rw-r--r-- 1 root root 382M Mar  5 09:48 /content/spark-3.5.0-bin-hadoop3.tgz\n",
            "✅ Spark inicializado correctamente: 3.5.0\n"
          ]
        }
      ],
      "source": [
        "# 📌 1️⃣ Eliminar cualquier instalación previa\n",
        "!rm -rf /content/spark-*\n",
        "!apt-get update > /dev/null\n",
        "!apt-get install openjdk-11-jdk-headless -qq > /dev/null\n",
        "\n",
        "# 📌 2️⃣ Descargar Spark 3.5.0 desde Apache (con verificación de descarga)\n",
        "!curl -o /content/spark-3.5.0-bin-hadoop3.tgz https://archive.apache.org/dist/spark/spark-3.5.0/spark-3.5.0-bin-hadoop3.tgz\n",
        "\n",
        "# 📌 3️⃣ Verificar si el archivo se descargó correctamente\n",
        "!ls -lh /content/spark-3.5.0-bin-hadoop3.tgz\n",
        "\n",
        "# 📌 4️⃣ Extraer el archivo si es válido\n",
        "!tar xf /content/spark-3.5.0-bin-hadoop3.tgz -C /content/\n",
        "\n",
        "# 📌 5️⃣ Configurar variables de entorno\n",
        "import os\n",
        "os.environ[\"JAVA_HOME\"] = \"/usr/lib/jvm/java-11-openjdk-amd64\"\n",
        "os.environ[\"SPARK_HOME\"] = \"/content/spark-3.5.0-bin-hadoop3\"\n",
        "os.environ[\"PATH\"] += os.pathsep + os.path.join(os.environ[\"SPARK_HOME\"], \"bin\")\n",
        "os.environ[\"PYTHONPATH\"] = os.path.join(os.environ[\"SPARK_HOME\"], \"python\") + os.pathsep + os.path.join(os.environ[\"SPARK_HOME\"], \"python/lib/py4j-0.10.9.7-src.zip\")\n",
        "\n",
        "# 📌 6️⃣ Instalar PySpark\n",
        "!pip install -q pyspark\n",
        "\n",
        "# 📌 7️⃣ Iniciar la sesión de Spark\n",
        "from pyspark.sql import SparkSession\n",
        "\n",
        "spark = SparkSession.builder \\\n",
        "    .appName(\"MiSparkApp\") \\\n",
        "    .master(\"local[*]\") \\\n",
        "    .config(\"spark.driver.memory\", \"2g\") \\\n",
        "    .getOrCreate()\n",
        "\n",
        "print(\"✅ Spark inicializado correctamente:\", spark.version)"
      ]
    },
    {
      "cell_type": "code",
      "source": [
        "# importamos funciones para trabajo con dataframes\n",
        "from pyspark.sql import functions as F\n"
      ],
      "metadata": {
        "id": "z0p57-6scEa3"
      },
      "execution_count": 5,
      "outputs": []
    },
    {
      "cell_type": "markdown",
      "source": [
        "____\n",
        "____\n"
      ],
      "metadata": {
        "id": "czYF5si6kapt"
      }
    },
    {
      "cell_type": "markdown",
      "source": [
        "## **Cargamos los archivos limpios de la fase anterior**"
      ],
      "metadata": {
        "id": "wXIsj6p7kXx8"
      }
    },
    {
      "cell_type": "markdown",
      "source": [
        "__________"
      ],
      "metadata": {
        "id": "busLTeoXku5f"
      }
    },
    {
      "cell_type": "code",
      "source": [
        "df_empresas= spark.read.parquet('/content/Empresas_limpio.parquet', inferSchema=True)\n",
        "df_empresas.show(5)"
      ],
      "metadata": {
        "colab": {
          "base_uri": "https://localhost:8080/"
        },
        "id": "mq9vstoRcK2B",
        "outputId": "b078ee68-1b21-4de2-e706-429a5b6481e4"
      },
      "execution_count": 6,
      "outputs": [
        {
          "output_type": "stream",
          "name": "stdout",
          "text": [
            "+----------+---------+---------------+-------------+----------------------+----------+-------+\n",
            "|empresa_id|   nombre|consumo_energia|emisiones_co2|certificacion_iso14001|    sector|   pais|\n",
            "+----------+---------+---------------+-------------+----------------------+----------+-------+\n",
            "| EMP000000|Empresa_0|        44404.7|       3217.3|                     0|   Energia| Canada|\n",
            "| EMP000001|Empresa_1|       25576.11|      16135.7|                     1|  Finanzas|  China|\n",
            "| EMP000002|Empresa_2|       29305.07|      2224.93|                     0|     Salud|  Japon|\n",
            "| EMP000003|Empresa_3|       44600.25|      3764.32|                     1|Transporte|  China|\n",
            "| EMP000004|Empresa_4|       46039.63|     11840.17|                     1|Tecnologia|Francia|\n",
            "+----------+---------+---------------+-------------+----------------------+----------+-------+\n",
            "only showing top 5 rows\n",
            "\n"
          ]
        }
      ]
    },
    {
      "cell_type": "code",
      "source": [
        "df_proyectos= spark.read.parquet('/content/proyectos_limpio.parquet', inferSchema=True)\n",
        "df_proyectos.show(5)"
      ],
      "metadata": {
        "colab": {
          "base_uri": "https://localhost:8080/"
        },
        "id": "GFl8mVFPk3cX",
        "outputId": "57f3b793-8ae9-4213-cd25-ced6ede8f3fa"
      },
      "execution_count": 7,
      "outputs": [
        {
          "output_type": "stream",
          "name": "stdout",
          "text": [
            "+-----------+----------+--------------------+-------------------+--------------+---------------+------------+\n",
            "|proyecto_id|empresa_id|capacidad_generacion|reduccion_emisiones|costo_proyecto|estado_proyecto|tipo_energia|\n",
            "+-----------+----------+--------------------+-------------------+--------------+---------------+------------+\n",
            "| PROJ000000| EMP016520|             9131.06|            2270.88|         26.03|         Activo|       Solar|\n",
            "| PROJ000001| EMP012923|             2164.32|             4886.1|        364.36|     Finalizado|       Solar|\n",
            "| PROJ000002| EMP023136|             2374.24|              446.3|        190.17|  En desarrollo|     Biomasa|\n",
            "| PROJ000003| EMP004436|             4065.11|            4465.83|         126.6|     Finalizado|  Geotermica|\n",
            "| PROJ000004| EMP021681|             4581.51|            3280.46|        227.13|         Activo|      Eolica|\n",
            "+-----------+----------+--------------------+-------------------+--------------+---------------+------------+\n",
            "only showing top 5 rows\n",
            "\n"
          ]
        }
      ]
    },
    {
      "cell_type": "code",
      "source": [
        "df_regulaciones= spark.read.parquet('/content/Regulaciones_limpio.parquet', inferSchema=True)\n",
        "df_regulaciones.show(5)"
      ],
      "metadata": {
        "colab": {
          "base_uri": "https://localhost:8080/"
        },
        "id": "b0ssPSRmtkfB",
        "outputId": "64c53e30-4bbe-4344-93bd-52f65a4ab86b"
      },
      "execution_count": 8,
      "outputs": [
        {
          "output_type": "stream",
          "name": "stdout",
          "text": [
            "+-------------+----------------+--------------------+----------------+--------+\n",
            "|regulacion_id|limite_emisiones|subsidios_renovables|impuesto_carbono|    pais|\n",
            "+-------------+----------------+--------------------+----------------+--------+\n",
            "|    REG000000|         3012.63|                   1|           19.54|   India|\n",
            "|    REG000001|         7325.54|                   1|           42.41|    EEUU|\n",
            "|    REG000002|         9060.84|                   1|            6.15|Alemania|\n",
            "|    REG000003|         7075.95|                   1|           44.65|  Espana|\n",
            "|    REG000004|         1997.42|                   0|            8.75|Alemania|\n",
            "+-------------+----------------+--------------------+----------------+--------+\n",
            "only showing top 5 rows\n",
            "\n"
          ]
        }
      ]
    },
    {
      "cell_type": "markdown",
      "source": [
        "___\n",
        "____"
      ],
      "metadata": {
        "id": "1WJu84owtr4n"
      }
    },
    {
      "cell_type": "markdown",
      "source": [
        "## **Tabla Beneficios Proyectos Energeticos**"
      ],
      "metadata": {
        "id": "TrLZz0sjtvKd"
      }
    },
    {
      "cell_type": "code",
      "source": [
        "# Vamos a calular la primera columna, inversion total sostenible:\n",
        "\n",
        "df_costo_proyectos= df_proyectos.groupBy('empresa_id').agg(F.round(F.sum('costo_proyecto'),2).alias('costo_total_proyectos'))\n",
        "df_costo_proyectos.sort('empresa_id').show(5)"
      ],
      "metadata": {
        "colab": {
          "base_uri": "https://localhost:8080/"
        },
        "id": "lywX9wNbtpZa",
        "outputId": "1e08ed37-c56e-4542-be91-45295e32b581"
      },
      "execution_count": 13,
      "outputs": [
        {
          "output_type": "stream",
          "name": "stdout",
          "text": [
            "+----------+---------------------+\n",
            "|empresa_id|costo_total_proyectos|\n",
            "+----------+---------------------+\n",
            "| EMP000000|               676.32|\n",
            "| EMP000001|                 4.58|\n",
            "| EMP000004|               249.27|\n",
            "| EMP000005|               282.32|\n",
            "| EMP000007|               697.71|\n",
            "+----------+---------------------+\n",
            "only showing top 5 rows\n",
            "\n"
          ]
        }
      ]
    },
    {
      "cell_type": "code",
      "source": [
        "df_proyectos.filter(F.col('empresa_id')== 'EMP000000').show()"
      ],
      "metadata": {
        "colab": {
          "base_uri": "https://localhost:8080/"
        },
        "id": "4RsvdKGgusYp",
        "outputId": "277f9f22-70d8-4edc-bb9e-5a254d1c0a25"
      },
      "execution_count": 12,
      "outputs": [
        {
          "output_type": "stream",
          "name": "stdout",
          "text": [
            "+-----------+----------+--------------------+-------------------+--------------+---------------+--------------+\n",
            "|proyecto_id|empresa_id|capacidad_generacion|reduccion_emisiones|costo_proyecto|estado_proyecto|  tipo_energia|\n",
            "+-----------+----------+--------------------+-------------------+--------------+---------------+--------------+\n",
            "| PROJ002488| EMP000000|             9150.33|             224.96|        301.21|         Activo|Hidroelectrica|\n",
            "| PROJ020806| EMP000000|             1962.66|             606.28|        375.11|  En desarrollo|        Eolica|\n",
            "+-----------+----------+--------------------+-------------------+--------------+---------------+--------------+\n",
            "\n"
          ]
        }
      ]
    },
    {
      "cell_type": "code",
      "source": [
        "df_inversion_total= df_empresas.join(df_costo_proyectos, on= 'empresa_id', how= 'inner').drop('certificacion_iso14001', 'sector','consumo_energia')\n",
        "df_inversion_total= df_inversion_total.withColumn('inversion_total_sostenible', F.round(F.col('emisiones_co2')*F.col('costo_total_proyectos'),2))\n",
        "df_inversion_total.sort('empresa_id').show(5)"
      ],
      "metadata": {
        "colab": {
          "base_uri": "https://localhost:8080/"
        },
        "id": "yufpKY4cu4lN",
        "outputId": "1c8e21da-20c2-495f-a165-122ff6a71182"
      },
      "execution_count": 24,
      "outputs": [
        {
          "output_type": "stream",
          "name": "stdout",
          "text": [
            "+----------+---------+-------------+-------+---------------------+--------------------------+\n",
            "|empresa_id|   nombre|emisiones_co2|   pais|costo_total_proyectos|inversion_total_sostenible|\n",
            "+----------+---------+-------------+-------+---------------------+--------------------------+\n",
            "| EMP000000|Empresa_0|       3217.3| Canada|               676.32|                2175924.34|\n",
            "| EMP000001|Empresa_1|      16135.7|  China|                 4.58|                  73901.51|\n",
            "| EMP000004|Empresa_4|     11840.17|Francia|               249.27|                2951399.18|\n",
            "| EMP000005|Empresa_5|      5665.54| Canada|               282.32|                1599495.25|\n",
            "| EMP000007|Empresa_7|       9487.0| Brasil|               697.71|                6619174.77|\n",
            "+----------+---------+-------------+-------+---------------------+--------------------------+\n",
            "only showing top 5 rows\n",
            "\n"
          ]
        }
      ]
    },
    {
      "cell_type": "markdown",
      "source": [
        "#### Observaciones:\n",
        "\n",
        "- Agrupamos por empresa para tener la suma de costos de los distintos proyectos. Comprobamos con el proyecto EMP000000 lo que se esta realizando.\n",
        "\n",
        "- Para calular la inversion total realizada por empresa, multiplicamos las emisiones totales de las empresas por su costo total asociado, que fue la suma de costos de sus proyectos.\n",
        "\n",
        "- De la misma manera que para la tabla anterior tiene sentido unicamente dejar las empresas que tiene proyectos sostenibles, ya que seran las que tengan costos asociados, subsidios asociados a los proyectos y a las que se les puede por lo tanto sacar balances de sostenibilidad. Para la primera tabla dejamos como salida igualmente, un listado de esas empresas que no presentan proyectos sostenibles, como complemento informativo."
      ],
      "metadata": {
        "id": "Dh2wrNEwvKK_"
      }
    },
    {
      "cell_type": "code",
      "source": [
        "# Pasamos a calcular los subsidios recibidos por empresa.\n",
        "\n",
        "df_subsidios= df_proyectos.join(df_empresas.select('empresa_id','nombre','pais'), on= 'empresa_id', how= 'left')\n",
        "df_subsidios= df_subsidios.join(df_regulaciones, on= 'pais', how= 'left')\n",
        "df_subsidios = df_subsidios.withColumn('subsidios_efectivos', F.col('costo_proyecto')*F.col('subsidios_renovables'))\n",
        "\n",
        "df_subsidios.show(5)\n",
        "df_subsidios.groupBy('empresa_id').count().filter(F.col('empresa_id')=='EMP000000').show()\n",
        "df_regulaciones.groupBy('pais').count().filter(F.col('pais')=='Canada').show()"
      ],
      "metadata": {
        "colab": {
          "base_uri": "https://localhost:8080/"
        },
        "id": "6ViTESgwwsSL",
        "outputId": "0fa36d0f-6818-4857-9c4d-5ab8ae8ad702"
      },
      "execution_count": 42,
      "outputs": [
        {
          "output_type": "stream",
          "name": "stdout",
          "text": [
            "+-------+----------+-----------+--------------------+-------------------+--------------+---------------+------------+-------------+-------------+----------------+--------------------+----------------+-------------------+\n",
            "|   pais|empresa_id|proyecto_id|capacidad_generacion|reduccion_emisiones|costo_proyecto|estado_proyecto|tipo_energia|       nombre|regulacion_id|limite_emisiones|subsidios_renovables|impuesto_carbono|subsidios_efectivos|\n",
            "+-------+----------+-----------+--------------------+-------------------+--------------+---------------+------------+-------------+-------------+----------------+--------------------+----------------+-------------------+\n",
            "|Francia| EMP016520| PROJ000000|             9131.06|            2270.88|         26.03|         Activo|       Solar|Empresa_16520|    REG029693|         4636.67|                   1|           20.05|              26.03|\n",
            "|Francia| EMP016520| PROJ000000|             9131.06|            2270.88|         26.03|         Activo|       Solar|Empresa_16520|    REG029681|         9591.76|                   0|           32.78|                0.0|\n",
            "|Francia| EMP016520| PROJ000000|             9131.06|            2270.88|         26.03|         Activo|       Solar|Empresa_16520|    REG029677|         6678.49|                   1|           38.91|              26.03|\n",
            "|Francia| EMP016520| PROJ000000|             9131.06|            2270.88|         26.03|         Activo|       Solar|Empresa_16520|    REG029675|        10493.39|                   0|           22.62|                0.0|\n",
            "|Francia| EMP016520| PROJ000000|             9131.06|            2270.88|         26.03|         Activo|       Solar|Empresa_16520|    REG029670|        14496.84|                   1|             5.6|              26.03|\n",
            "+-------+----------+-----------+--------------------+-------------------+--------------+---------------+------------+-------------+-------------+----------------+--------------------+----------------+-------------------+\n",
            "only showing top 5 rows\n",
            "\n",
            "+----------+-----+\n",
            "|empresa_id|count|\n",
            "+----------+-----+\n",
            "| EMP000000| 5872|\n",
            "+----------+-----+\n",
            "\n",
            "+------+-----+\n",
            "|  pais|count|\n",
            "+------+-----+\n",
            "|Canada| 2936|\n",
            "+------+-----+\n",
            "\n"
          ]
        }
      ]
    },
    {
      "cell_type": "code",
      "source": [
        "df_subsidios = df_subsidios.groupBy('empresa_id').agg(F.round(F.sum('subsidios_efectivos'),2).alias('subsidios_recibidos'))\n",
        "df_subsidios.sort('empresa_id').show(5)"
      ],
      "metadata": {
        "colab": {
          "base_uri": "https://localhost:8080/"
        },
        "id": "ZFNU9ZR-z_X4",
        "outputId": "8c4e9648-04c5-46d2-c885-f3c62b2eeedb"
      },
      "execution_count": 43,
      "outputs": [
        {
          "output_type": "stream",
          "name": "stdout",
          "text": [
            "+----------+-------------------+\n",
            "|empresa_id|subsidios_recibidos|\n",
            "+----------+-------------------+\n",
            "| EMP000000|          976606.08|\n",
            "| EMP000001|             7053.2|\n",
            "| EMP000004|          377893.32|\n",
            "| EMP000005|          407670.08|\n",
            "| EMP000007|         1008190.95|\n",
            "+----------+-------------------+\n",
            "only showing top 5 rows\n",
            "\n"
          ]
        }
      ]
    },
    {
      "cell_type": "markdown",
      "source": [
        "#### Observaciones:\n",
        "\n",
        "- Para calcular los subsidios recibidos, tenemos que ver cuales se hacen efectivos por proyecto, es decir un subsidio se paga( cuando tiene 1 el registro) o no se paga( cuando registro es 0), y se evalua por proyecto, es decir si es efectivo se recibe de subsidio ese costo del proyecto.\n",
        "\n",
        "- Se tiene multiples subsidios asociados a multiples regulaciones, que van por país, por lo tanto necesitamos evaluar cada regulacion con su respectivo subsidio que aplica en ese pais para cada proyecto de una empresa que este en ese pais. Realizamos el cruce de esta manera.\n",
        "\n",
        "- Comprobamos que lo hicimos correctamente, ya que para Canada se tiene 2936 registros, lo que quiere decir que la Empresa: EMP000000, ubicada en canada deberia tener el doble de esos registros en el cruce ya que cada una de esas regulaciones aplicara para cada uno de sus dos proyectos. Esto es asi.\n",
        "\n",
        "- Como tenemos el subsidio unitario por proyecto para cada empresa, debemos agrupar el coste total del subsidio sumando todos estos subsidios unitarios por empresa"
      ],
      "metadata": {
        "id": "Zpj7ks-t3teh"
      }
    },
    {
      "cell_type": "code",
      "source": [
        "# Pasamos a calcular el tercer campo, los impuestos totales por empresa.\n",
        "\n",
        "df_reduccion_emisiones= df_proyectos.groupBy('empresa_id').agg(F.round(F.sum('reduccion_emisiones'),2).alias('reduccion_emisiones_totales'))\n",
        "df_reduccion_emisiones.sort('empresa_id').show(5)\n",
        "\n",
        "df_emisiones_netas= df_inversion_total.join(df_reduccion_emisiones, on= 'empresa_id', how= 'inner').select('empresa_id','nombre',\n",
        "                                                                                                           'emisiones_co2','pais','inversion_total_sostenible',\n",
        "                                                                                                           'reduccion_emisiones_totales')\n",
        "df_emisiones_netas= df_emisiones_netas.withColumn('emisiones_netas',F.round( F.col('emisiones_co2')-F.col('reduccion_emisiones_totales'),2))\n",
        "df_emisiones_netas.sort('empresa_id').show(5)"
      ],
      "metadata": {
        "colab": {
          "base_uri": "https://localhost:8080/"
        },
        "id": "9hzvDkKC2aXg",
        "outputId": "96c2c026-1c74-4bd5-9acc-607f24bc91d0"
      },
      "execution_count": 54,
      "outputs": [
        {
          "output_type": "stream",
          "name": "stdout",
          "text": [
            "+----------+---------------------------+\n",
            "|empresa_id|reduccion_emisiones_totales|\n",
            "+----------+---------------------------+\n",
            "| EMP000000|                     831.24|\n",
            "| EMP000001|                    1565.71|\n",
            "| EMP000004|                    3963.83|\n",
            "| EMP000005|                    3517.67|\n",
            "| EMP000007|                    3262.14|\n",
            "+----------+---------------------------+\n",
            "only showing top 5 rows\n",
            "\n",
            "+----------+---------+-------------+-------+--------------------------+---------------------------+---------------+\n",
            "|empresa_id|   nombre|emisiones_co2|   pais|inversion_total_sostenible|reduccion_emisiones_totales|emisiones_netas|\n",
            "+----------+---------+-------------+-------+--------------------------+---------------------------+---------------+\n",
            "| EMP000000|Empresa_0|       3217.3| Canada|                2175924.34|                     831.24|        2386.06|\n",
            "| EMP000001|Empresa_1|      16135.7|  China|                  73901.51|                    1565.71|       14569.99|\n",
            "| EMP000004|Empresa_4|     11840.17|Francia|                2951399.18|                    3963.83|        7876.34|\n",
            "| EMP000005|Empresa_5|      5665.54| Canada|                1599495.25|                    3517.67|        2147.87|\n",
            "| EMP000007|Empresa_7|       9487.0| Brasil|                6619174.77|                    3262.14|        6224.86|\n",
            "+----------+---------+-------------+-------+--------------------------+---------------------------+---------------+\n",
            "only showing top 5 rows\n",
            "\n"
          ]
        }
      ]
    },
    {
      "cell_type": "code",
      "source": [
        "df_impuestos= df_emisiones_netas.join(df_regulaciones, on= 'pais', how= 'left').select('empresa_id','nombre','emisiones_netas',\n",
        "                                                                                       'regulacion_id','limite_emisiones','impuesto_carbono')\n",
        "df_impuestos.groupBy('empresa_id').count().filter(F.col('empresa_id')=='EMP000000').show()"
      ],
      "metadata": {
        "colab": {
          "base_uri": "https://localhost:8080/"
        },
        "id": "tWOKVC5Y2aZe",
        "outputId": "97a4a8f7-88cf-4e80-d30a-4874b272385b"
      },
      "execution_count": 91,
      "outputs": [
        {
          "output_type": "stream",
          "name": "stdout",
          "text": [
            "+----------+-----+\n",
            "|empresa_id|count|\n",
            "+----------+-----+\n",
            "| EMP000000| 2936|\n",
            "+----------+-----+\n",
            "\n"
          ]
        }
      ]
    },
    {
      "cell_type": "code",
      "source": [
        "df_calculo_impuestos= df_impuestos.withColumn('impuestos_efectivos', F.when(F.col('emisiones_netas')>F.col('limite_emisiones'),\n",
        "                                                                    F.round((F.col('emisiones_netas')-F.col('limite_emisiones'))*\n",
        "                                                                            F.col('impuesto_carbono'),2)).otherwise(0))\n",
        "\n",
        "df_calculo_impuestos= df_calculo_impuestos.groupBy('empresa_id').agg(F.round(F.sum('impuestos_efectivos'),2).alias('impuestos_recibidos'))\n",
        "\n",
        "df_calculo_impuestos.filter(F.col('empresa_id')=='EMP000000').show()"
      ],
      "metadata": {
        "colab": {
          "base_uri": "https://localhost:8080/"
        },
        "id": "j0e7VbjCBE9Q",
        "outputId": "379fee37-620a-410c-ef23-e01720cf4ca9"
      },
      "execution_count": 94,
      "outputs": [
        {
          "output_type": "stream",
          "name": "stdout",
          "text": [
            "+----------+-------------------+\n",
            "|empresa_id|impuestos_recibidos|\n",
            "+----------+-------------------+\n",
            "| EMP000000|          5164825.0|\n",
            "+----------+-------------------+\n",
            "\n"
          ]
        }
      ]
    },
    {
      "cell_type": "markdown",
      "source": [
        "#### Observaciones:\n",
        "\n",
        "- Para poder calcular los impuestos que paga una empresa tenemos que calcular sus emisiones netas, ya que el pago del immpuesto va ligado a esto. Una empresa pagara en caso de que las emisiones netas sean mayores al limite de una regulacion. El monto sera esa diferencia por el precio del impuesto de esa regulacion. Las emisiones netas a su vez son la diferencia entre las emisiones totales de una empresa y la suma de todas las reducciones de emisiones que lograron con sus proyectos renovables.\n",
        "\n",
        "- Calculamos primero la reduccion de emisiones por empresa agrupando en el dataframe de proyectos, nos traemos las emisiones totales cruzando con el df de inversiones totales ya que tiene las emisiones totales por empresa y ya habiamos quitado campos que no usaremos. Calculamos la resta teniendo los dos campos de interes.\n",
        "\n",
        "- Cruzamos el dataframe de las emisiones netas con el de regulaciones, de la misma manera que hicimos para calcular los subsidios, Evaluamos por empresa EMP000000, que tenemos en este caso las 2936 regulaciones que tiene su pais y pasamos a evaluar cada emision neta contra el limite de emisiones y en los casos que aplique calcular el impuesto"
      ],
      "metadata": {
        "id": "nC2Bzuqt-mNe"
      }
    },
    {
      "cell_type": "code",
      "source": [
        "# Antes de calcular los campos 4 y 5 podemos empezar a unir la tabla de salida ya que estos campos dependen de los calculados anteriormente.\n",
        "\n",
        "df_inversion_X_subsidios= df_inversion_total.join(df_subsidios, on= 'empresa_id', how= 'inner').select('empresa_id',\n",
        "                                                                                                       'nombre','inversion_total_sostenible','subsidios_recibidos')\n",
        "\n",
        "df_inversion_X_subsidios.sort('empresa_id').show(5)"
      ],
      "metadata": {
        "colab": {
          "base_uri": "https://localhost:8080/"
        },
        "id": "KKXf_swSMk13",
        "outputId": "ee67e2fb-8341-43ce-c67a-b564c9c6785c"
      },
      "execution_count": 102,
      "outputs": [
        {
          "output_type": "stream",
          "name": "stdout",
          "text": [
            "+----------+---------+--------------------------+-------------------+\n",
            "|empresa_id|   nombre|inversion_total_sostenible|subsidios_recibidos|\n",
            "+----------+---------+--------------------------+-------------------+\n",
            "| EMP000000|Empresa_0|                2175924.34|          976606.08|\n",
            "| EMP000001|Empresa_1|                  73901.51|             7053.2|\n",
            "| EMP000004|Empresa_4|                2951399.18|          377893.32|\n",
            "| EMP000005|Empresa_5|                1599495.25|          407670.08|\n",
            "| EMP000007|Empresa_7|                6619174.77|         1008190.95|\n",
            "+----------+---------+--------------------------+-------------------+\n",
            "only showing top 5 rows\n",
            "\n"
          ]
        }
      ]
    },
    {
      "cell_type": "code",
      "source": [
        "df_inversion_X_subsidios_X_impuestos= df_inversion_X_subsidios.join(df_calculo_impuestos, on= 'empresa_id', how= 'inner')\n",
        "df_inversion_X_subsidios_X_impuestos.show(5)\n",
        "df_inversion_X_subsidios_X_impuestos.groupBy().count().show()"
      ],
      "metadata": {
        "colab": {
          "base_uri": "https://localhost:8080/"
        },
        "id": "vr2WO--fMk_e",
        "outputId": "e8ff27e6-b100-4df7-9213-dfcd4155aaf8"
      },
      "execution_count": 103,
      "outputs": [
        {
          "output_type": "stream",
          "name": "stdout",
          "text": [
            "+----------+---------+--------------------------+-------------------+-------------------+\n",
            "|empresa_id|   nombre|inversion_total_sostenible|subsidios_recibidos|impuestos_recibidos|\n",
            "+----------+---------+--------------------------+-------------------+-------------------+\n",
            "| EMP000000|Empresa_0|                2175924.34|          976606.08|          5164825.0|\n",
            "| EMP000001|Empresa_1|                  73901.51|             7053.2|     5.0900876665E8|\n",
            "| EMP000004|Empresa_4|                2951399.18|          377893.32|     1.2334216064E8|\n",
            "| EMP000005|Empresa_5|                1599495.25|          407670.08|          3565494.9|\n",
            "| EMP000007|Empresa_7|                6619174.77|         1008190.95|      6.833883734E7|\n",
            "+----------+---------+--------------------------+-------------------+-------------------+\n",
            "only showing top 5 rows\n",
            "\n",
            "+-----+\n",
            "|count|\n",
            "+-----+\n",
            "|16033|\n",
            "+-----+\n",
            "\n"
          ]
        }
      ]
    },
    {
      "cell_type": "code",
      "source": [
        "df_beneficios_proyectos_energeticos= df_inversion_X_subsidios_X_impuestos.withColumn('ahorro_total',\n",
        "                                                                                     F.round((F.col('subsidios_recibidos')+F.col('impuestos_recibidos')),2)).withColumn(\n",
        "                                                                                         'balance_sostenibilidad',F.round((F.col('ahorro_total')-F.col('inversion_total_sostenible'\n",
        "                                                                                     )),2))\n",
        "df_beneficios_proyectos_energeticos.show(5)\n",
        ""
      ],
      "metadata": {
        "colab": {
          "base_uri": "https://localhost:8080/"
        },
        "id": "I8HtiynzMdVw",
        "outputId": "64382158-3e3c-43d3-f5f6-ff682aa595a8"
      },
      "execution_count": 109,
      "outputs": [
        {
          "output_type": "stream",
          "name": "stdout",
          "text": [
            "+----------+---------+--------------------------+-------------------+-------------------+--------------+----------------------+\n",
            "|empresa_id|   nombre|inversion_total_sostenible|subsidios_recibidos|impuestos_recibidos|  ahorro_total|balance_sostenibilidad|\n",
            "+----------+---------+--------------------------+-------------------+-------------------+--------------+----------------------+\n",
            "| EMP000000|Empresa_0|                2175924.34|          976606.08|          5164825.0|    6141431.08|            3965506.74|\n",
            "| EMP000001|Empresa_1|                  73901.51|             7053.2|     5.0900876665E8|5.0901581985E8|        5.0894191834E8|\n",
            "| EMP000004|Empresa_4|                2951399.18|          377893.32|     1.2334216064E8|1.2372005396E8|        1.2076865478E8|\n",
            "| EMP000005|Empresa_5|                1599495.25|          407670.08|          3565494.9|    3973164.98|            2373669.73|\n",
            "| EMP000007|Empresa_7|                6619174.77|         1008190.95|      6.833883734E7| 6.934702829E7|         6.272785352E7|\n",
            "+----------+---------+--------------------------+-------------------+-------------------+--------------+----------------------+\n",
            "only showing top 5 rows\n",
            "\n"
          ]
        }
      ]
    },
    {
      "cell_type": "code",
      "source": [
        "df_beneficios_proyectos_energeticos= df_beneficios_proyectos_energeticos.withColumnRenamed('impuestos_recibidos','impuestos_total')\n",
        "df_beneficios_proyectos_energeticos.show(5)"
      ],
      "metadata": {
        "colab": {
          "base_uri": "https://localhost:8080/"
        },
        "id": "HoiEkxjNS-wn",
        "outputId": "5efcd7a3-d34f-40f2-c62c-98f80d3f4d2b"
      },
      "execution_count": 111,
      "outputs": [
        {
          "output_type": "stream",
          "name": "stdout",
          "text": [
            "+----------+---------+--------------------------+-------------------+---------------+--------------+----------------------+\n",
            "|empresa_id|   nombre|inversion_total_sostenible|subsidios_recibidos|impuestos_total|  ahorro_total|balance_sostenibilidad|\n",
            "+----------+---------+--------------------------+-------------------+---------------+--------------+----------------------+\n",
            "| EMP000000|Empresa_0|                2175924.34|          976606.08|      5164825.0|    6141431.08|            3965506.74|\n",
            "| EMP000001|Empresa_1|                  73901.51|             7053.2| 5.0900876665E8|5.0901581985E8|        5.0894191834E8|\n",
            "| EMP000004|Empresa_4|                2951399.18|          377893.32| 1.2334216064E8|1.2372005396E8|        1.2076865478E8|\n",
            "| EMP000005|Empresa_5|                1599495.25|          407670.08|      3565494.9|    3973164.98|            2373669.73|\n",
            "| EMP000007|Empresa_7|                6619174.77|         1008190.95|  6.833883734E7| 6.934702829E7|         6.272785352E7|\n",
            "+----------+---------+--------------------------+-------------------+---------------+--------------+----------------------+\n",
            "only showing top 5 rows\n",
            "\n"
          ]
        }
      ]
    },
    {
      "cell_type": "code",
      "source": [
        "df_beneficios_proyectos_energeticos.write.csv('/content/df_beneficios_proyectos_energeticos.csv', header= True)"
      ],
      "metadata": {
        "id": "S2c8jDX_T2HA"
      },
      "execution_count": 112,
      "outputs": []
    },
    {
      "cell_type": "markdown",
      "source": [
        "#### Observaciones\n",
        "\n",
        "- Para los dos ultimos campos nos bastan operaciones entre los campos previamente calculados. Cruzamos los data frames donde tenemos la inversion total, los impuestos recibidos y los subsidios recibidos. De esta manera tendremos las 3 primeras variables juntas para los calculos posteriores. Lo  cruces se realizaron tipo inner, aunque pudo haber sido left o right, ya que se tienen exactamente las mismas empresas en los 3 Dataframes, aquellas con proyectos renovables.\n",
        "\n",
        "- Teniendo todo en un solo dataframe, calculamos el ahorro total como impuestos mas subsidios, y el balance como ahorro menos inversion, de acuerdo a lo indicado.\n",
        "\n",
        "- finalmente podemos exportar nuestra tabla de salida #2"
      ],
      "metadata": {
        "id": "lQbFL7oyRMaq"
      }
    }
  ]
}