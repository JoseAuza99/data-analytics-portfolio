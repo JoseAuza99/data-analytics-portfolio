{
  "nbformat": 4,
  "nbformat_minor": 0,
  "metadata": {
    "colab": {
      "provenance": []
    },
    "kernelspec": {
      "name": "python3",
      "display_name": "Python 3"
    },
    "language_info": {
      "name": "python"
    }
  },
  "cells": [
    {
      "cell_type": "markdown",
      "source": [
        "# **Proyecto Final**"
      ],
      "metadata": {
        "id": "7R8zlXw3ZCRe"
      }
    },
    {
      "cell_type": "markdown",
      "source": [
        "## **Creamos la sesion de spark**\n"
      ],
      "metadata": {
        "id": "kdwfSLLaUz8O"
      }
    },
    {
      "cell_type": "markdown",
      "source": [
        "_______"
      ],
      "metadata": {
        "id": "DfiCAwUHe_Gi"
      }
    },
    {
      "cell_type": "code",
      "source": [
        "# 📌 1️⃣ Eliminar cualquier instalación previa\n",
        "!rm -rf /content/spark-*\n",
        "!apt-get update > /dev/null\n",
        "!apt-get install openjdk-11-jdk-headless -qq > /dev/null\n",
        "\n",
        "# 📌 2️⃣ Descargar Spark 3.5.0 desde Apache (con verificación de descarga)\n",
        "!curl -o /content/spark-3.5.0-bin-hadoop3.tgz https://archive.apache.org/dist/spark/spark-3.5.0/spark-3.5.0-bin-hadoop3.tgz\n",
        "\n",
        "# 📌 3️⃣ Verificar si el archivo se descargó correctamente\n",
        "!ls -lh /content/spark-3.5.0-bin-hadoop3.tgz\n",
        "\n",
        "# 📌 4️⃣ Extraer el archivo si es válido\n",
        "!tar xf /content/spark-3.5.0-bin-hadoop3.tgz -C /content/\n",
        "\n",
        "# 📌 5️⃣ Configurar variables de entorno\n",
        "import os\n",
        "os.environ[\"JAVA_HOME\"] = \"/usr/lib/jvm/java-11-openjdk-amd64\"\n",
        "os.environ[\"SPARK_HOME\"] = \"/content/spark-3.5.0-bin-hadoop3\"\n",
        "os.environ[\"PATH\"] += os.pathsep + os.path.join(os.environ[\"SPARK_HOME\"], \"bin\")\n",
        "os.environ[\"PYTHONPATH\"] = os.path.join(os.environ[\"SPARK_HOME\"], \"python\") + os.pathsep + os.path.join(os.environ[\"SPARK_HOME\"], \"python/lib/py4j-0.10.9.7-src.zip\")\n",
        "\n",
        "# 📌 6️⃣ Instalar PySpark\n",
        "!pip install -q pyspark\n",
        "\n",
        "# 📌 7️⃣ Iniciar la sesión de Spark\n",
        "from pyspark.sql import SparkSession\n",
        "\n",
        "spark = SparkSession.builder \\\n",
        "    .appName(\"MiSparkApp\") \\\n",
        "    .master(\"local[*]\") \\\n",
        "    .config(\"spark.driver.memory\", \"2g\") \\\n",
        "    .getOrCreate()\n",
        "\n",
        "print(\"✅ Spark inicializado correctamente:\", spark.version)\n",
        "\n"
      ],
      "metadata": {
        "colab": {
          "base_uri": "https://localhost:8080/"
        },
        "id": "PTZCpplNr2AP",
        "outputId": "ea0ec23f-818a-40a3-b32a-8fc21c845d32"
      },
      "execution_count": 32,
      "outputs": [
        {
          "output_type": "stream",
          "name": "stdout",
          "text": [
            "W: Skipping acquire of configured file 'main/source/Sources' as repository 'https://r2u.stat.illinois.edu/ubuntu jammy InRelease' does not seem to provide it (sources.list entry misspelt?)\n",
            "  % Total    % Received % Xferd  Average Speed   Time    Time     Time  Current\n",
            "                                 Dload  Upload   Total   Spent    Left  Speed\n",
            "100  381M  100  381M    0     0  1460k      0  0:04:27  0:04:27 --:--:-- 1524k\n",
            "-rw-r--r-- 1 root root 382M Mar  3 11:21 /content/spark-3.5.0-bin-hadoop3.tgz\n",
            "✅ Spark inicializado correctamente: 3.5.0\n"
          ]
        }
      ]
    },
    {
      "cell_type": "markdown",
      "source": [
        "________\n",
        "________"
      ],
      "metadata": {
        "id": "TVEk7i42fCyB"
      }
    },
    {
      "cell_type": "code",
      "source": [
        "# importamos funciones para trabajo con dataframes\n",
        "from pyspark.sql import functions as F\n"
      ],
      "metadata": {
        "id": "9pE2xRMag-G3"
      },
      "execution_count": 33,
      "outputs": []
    },
    {
      "cell_type": "markdown",
      "source": [
        "## **EDA para csv de empresas**"
      ],
      "metadata": {
        "id": "euoAL4GBe0YA"
      }
    },
    {
      "cell_type": "markdown",
      "source": [
        "_____\n"
      ],
      "metadata": {
        "id": "Dw4KmaNZZahe"
      }
    },
    {
      "cell_type": "code",
      "source": [
        "#Leemos el primer data frame de empresas\n",
        "\n",
        "df_empresas= spark.read.csv(\"/content/Empresas_Sostenibilidad.csv\", header=True, inferSchema=True)\n",
        "df_empresas.show()"
      ],
      "metadata": {
        "id": "BsNyWzX3cure",
        "colab": {
          "base_uri": "https://localhost:8080/"
        },
        "outputId": "e40f63be-5c37-49c5-f0c2-9e0cb67ef21d"
      },
      "execution_count": 36,
      "outputs": [
        {
          "output_type": "stream",
          "name": "stdout",
          "text": [
            "+----------+----------+-----------+-------+---------------+-------------+----------------------+\n",
            "|empresa_id|    nombre|     sector|   pais|consumo_energia|emisiones_co2|certificacion_iso14001|\n",
            "+----------+----------+-----------+-------+---------------+-------------+----------------------+\n",
            "| EMP000000| Empresa_0|    Energía| Canadá|        44404.7|       3217.3|                     0|\n",
            "| EMP000001| Empresa_1|   Finanzas|  China|       25576.11|      16135.7|                     1|\n",
            "| EMP000002| Empresa_2|      Salud|  Japón|       29305.07|      2224.93|                     0|\n",
            "| EMP000003| Empresa_3| Transporte|  China|       44600.25|      3764.32|                     1|\n",
            "| EMP000004| Empresa_4| Tecnología|Francia|       46039.63|     11840.17|                     1|\n",
            "| EMP000005| Empresa_5|Manufactura| Canadá|       41988.85|      5665.54|                     1|\n",
            "| EMP000006| Empresa_6|    Energía|  China|        2793.22|      3871.34|                     0|\n",
            "| EMP000007| Empresa_7| Transporte| Brasil|       25219.96|       9487.0|                     0|\n",
            "| EMP000008| Empresa_8|   Finanzas| España|       36890.97|     14023.38|                     1|\n",
            "| EMP000009| Empresa_9|    Energía|  China|        6868.81|      13398.5|                     1|\n",
            "| EMP000010|Empresa_10|      Salud|   EEUU|       40337.87|     18862.97|                     0|\n",
            "| EMP000011|Empresa_11|    Energía|  China|       33590.41|     14316.45|                     1|\n",
            "| EMP000012|Empresa_12|Manufactura| Canadá|       24567.02|      1807.39|                     0|\n",
            "| EMP000013|Empresa_13| Tecnología|   EEUU|       20055.81|     10699.79|                     1|\n",
            "| EMP000014|Empresa_14|Manufactura|  China|       11309.87|      1796.63|                     0|\n",
            "| EMP000015|Empresa_15|    Energía|  India|       42781.21|      1310.71|                     0|\n",
            "| EMP000016|Empresa_16|   Finanzas| Brasil|       43144.59|     14768.45|                     1|\n",
            "| EMP000017|Empresa_17| Tecnología| Canadá|       13942.37|      7130.42|                     1|\n",
            "| EMP000018|Empresa_18|    Energía|  India|        6546.26|      1030.54|                     1|\n",
            "| EMP000019|Empresa_19|      Salud| Canadá|        1718.49|     13029.69|                     1|\n",
            "+----------+----------+-----------+-------+---------------+-------------+----------------------+\n",
            "only showing top 20 rows\n",
            "\n"
          ]
        }
      ]
    },
    {
      "cell_type": "code",
      "source": [
        "# Mostramos el esquema y el numero de filas\n",
        "df_empresas.printSchema()\n",
        "print(\"Numero de filas: \", df_empresas.count())"
      ],
      "metadata": {
        "id": "MQhe44MbgOrc",
        "colab": {
          "base_uri": "https://localhost:8080/"
        },
        "outputId": "a056e959-44cf-4154-9a36-9c3cda6b943e"
      },
      "execution_count": 37,
      "outputs": [
        {
          "output_type": "stream",
          "name": "stdout",
          "text": [
            "root\n",
            " |-- empresa_id: string (nullable = true)\n",
            " |-- nombre: string (nullable = true)\n",
            " |-- sector: string (nullable = true)\n",
            " |-- pais: string (nullable = true)\n",
            " |-- consumo_energia: double (nullable = true)\n",
            " |-- emisiones_co2: double (nullable = true)\n",
            " |-- certificacion_iso14001: integer (nullable = true)\n",
            "\n",
            "Numero de filas:  24627\n"
          ]
        }
      ]
    },
    {
      "cell_type": "markdown",
      "source": [
        "##### Observaciones:\n",
        "\n",
        "- Tenemos 24627 registros en este dataframe\n",
        "- Observamos que el tipo de las variables estas correctamente asignado, es decir no se tiene un string en alguna de las variables que debe ser numerica, lo cual nos indica que esas columnas estan correctamente compuestas por valores numericos en todas sus filas.\n",
        "- Vemos que en la columna de sector y país se tienen valores con tildes, lo cual puede representar un posible inconveniente futuro por lo cual deberiamos homogenizar esto."
      ],
      "metadata": {
        "id": "w0CzSklax3Ll"
      }
    },
    {
      "cell_type": "code",
      "source": [
        "# Reviso si hay duplicados agrupando por todos los campos y muestro los registros duplicados\n",
        "df_empresas.groupBy('empresa_id', 'nombre', 'sector','pais','consumo_energia','emisiones_co2','certificacion_iso14001').count().filter(F.col('count')>1).show()"
      ],
      "metadata": {
        "id": "80s76unZghkz",
        "colab": {
          "base_uri": "https://localhost:8080/"
        },
        "outputId": "e1d28b15-09ba-4543-952a-5d137656525c"
      },
      "execution_count": 38,
      "outputs": [
        {
          "output_type": "stream",
          "name": "stdout",
          "text": [
            "+----------+------+------+----+---------------+-------------+----------------------+-----+\n",
            "|empresa_id|nombre|sector|pais|consumo_energia|emisiones_co2|certificacion_iso14001|count|\n",
            "+----------+------+------+----+---------------+-------------+----------------------+-----+\n",
            "+----------+------+------+----+---------------+-------------+----------------------+-----+\n",
            "\n"
          ]
        }
      ]
    },
    {
      "cell_type": "markdown",
      "source": [
        "##### Obervaciones:\n",
        "\n",
        "- Agrupamos por todos los campos y usamos una función de agregación en este caso count, que nos dara la cantidad de veces que un registro se repite en el dataframe. Filtramos los que se repitan mas de una vez y vemos que el DataFrame esta vacío.\n",
        "\n",
        "- Al no tener registros duplicados, mantenemos todo igual y procedemos a seguir limpiando los datos con posteriores validaciones según corresponda"
      ],
      "metadata": {
        "id": "KBQQ9vChakZK"
      }
    },
    {
      "cell_type": "code",
      "source": [
        "# verificamos cuantos valores nulos hay en cada columna del Data frame\n",
        "df_empresas.select([\n",
        "    F.sum(F.col(c).isNull().cast(\"int\")).alias(c) for c in df_empresas.columns\n",
        "]).show()"
      ],
      "metadata": {
        "id": "HtF2JwVmg2Og",
        "colab": {
          "base_uri": "https://localhost:8080/"
        },
        "outputId": "2f6a5c7b-5b3a-4374-a21b-4093152a300b"
      },
      "execution_count": 39,
      "outputs": [
        {
          "output_type": "stream",
          "name": "stdout",
          "text": [
            "+----------+------+------+----+---------------+-------------+----------------------+\n",
            "|empresa_id|nombre|sector|pais|consumo_energia|emisiones_co2|certificacion_iso14001|\n",
            "+----------+------+------+----+---------------+-------------+----------------------+\n",
            "|         0|     0|     0|   0|              0|            0|                     0|\n",
            "+----------+------+------+----+---------------+-------------+----------------------+\n",
            "\n"
          ]
        }
      ]
    },
    {
      "cell_type": "markdown",
      "source": [
        "##### Obervaciones:\n",
        "\n",
        "- Revisamos la cantidad de valores nulos en cada columna. Vemos que las variables no tienen valores nulos en sus filas, por lo que no eliminamos ni tratamos ningun registro"
      ],
      "metadata": {
        "id": "bf1UIMVayVE6"
      }
    },
    {
      "cell_type": "code",
      "source": [
        "# En este caso calculamos los principales estadisticos descriptivos para consumo de energia y emisiones co2 ya que son las variables que tienen sentido.\n",
        "df_stats_empresas= df_empresas.describe(['consumo_energia','emisiones_co2'])\n",
        "df_stats_empresas.show()"
      ],
      "metadata": {
        "id": "slVrFgVnEABU",
        "colab": {
          "base_uri": "https://localhost:8080/"
        },
        "outputId": "743f4a5f-ec6e-4711-e662-b31182bdbf25"
      },
      "execution_count": 40,
      "outputs": [
        {
          "output_type": "stream",
          "name": "stdout",
          "text": [
            "+-------+------------------+-----------------+\n",
            "|summary|   consumo_energia|    emisiones_co2|\n",
            "+-------+------------------+-----------------+\n",
            "|  count|             24627|            24627|\n",
            "|   mean| 25195.89757177069|10089.50704348889|\n",
            "| stddev|14262.971248483236|5776.336618176933|\n",
            "|    min|            500.65|            10.14|\n",
            "|    max|          49999.47|         19999.44|\n",
            "+-------+------------------+-----------------+\n",
            "\n"
          ]
        }
      ]
    },
    {
      "cell_type": "code",
      "source": [
        "import matplotlib.pyplot as plt\n",
        "\n",
        "# Convertir los datos de PySpark a Pandas para graficar\n",
        "df_pandas = df_empresas.select(\"consumo_energia\", \"emisiones_co2\").toPandas()\n",
        "\n",
        "# Crear subgráficos (1 fila, 2 columnas)\n",
        "fig, axes = plt.subplots(1, 2, figsize=(14, 5))  # 1 fila, 2 columnas\n",
        "\n",
        "# Histograma de consumo de energía\n",
        "axes[0].hist(df_pandas[\"consumo_energia\"], bins=100, alpha=0.5, label=\"Consumo Energía\")\n",
        "axes[0].set_xlabel(\"Consumo Energía\")\n",
        "axes[0].set_ylabel(\"Frecuencia\")\n",
        "axes[0].set_title(\"Distribución de Consumo de Energía\")\n",
        "axes[0].grid()\n",
        "\n",
        "# Histograma de emisiones de CO2\n",
        "axes[1].hist(df_pandas[\"emisiones_co2\"], bins=100, alpha=0.5, label=\"Emisiones CO2\", color='r')\n",
        "axes[1].set_xlabel(\"Emisiones CO2\")\n",
        "axes[1].set_ylabel(\"Frecuencia\")\n",
        "axes[1].set_title(\"Distribución de Emisiones de CO2\")\n",
        "axes[1].grid()\n",
        "\n",
        "# Ajustar diseño para evitar superposiciones\n",
        "plt.tight_layout()\n",
        "\n",
        "# Mostrar gráfico\n",
        "plt.show()\n",
        "\n"
      ],
      "metadata": {
        "id": "3-qvCh9Pli_r",
        "colab": {
          "base_uri": "https://localhost:8080/",
          "height": 438
        },
        "outputId": "f0670393-c93f-4a88-ac4a-9867823d3d7f"
      },
      "execution_count": 41,
      "outputs": [
        {
          "output_type": "display_data",
          "data": {
            "text/plain": [
              "<Figure size 1400x500 with 2 Axes>"
            ],
            "image/png": "[encoded data removed]"
          },
          "metadata": {}
        }
      ]
    },
    {
      "cell_type": "markdown",
      "source": [
        "##### Obervaciones:\n",
        "\n",
        "- Calculamos los principales estadísticos desctiptivos para la media para las dos variables numericas que tenemos.\n",
        "\n",
        "- Observamos graficamente que en los 2 casos la distribución de los datos no esta sesgada hacia ningún lado. Se tienen valores en proporciones muy similares a lo largo del rango de cada variable, lo que quiere decir que cada variable numerica en el dataset esta relativamente equilibrada entre magnitudes con valores bajos y altos"
      ],
      "metadata": {
        "id": "2gRhBjki0Akg"
      }
    },
    {
      "cell_type": "code",
      "source": [
        "# Procedemos a tratar las columnas de sector y país de acuerdo a lo comentado anteriormente. Eliminamos las tildes.\n",
        "\n",
        "!pip install unidecode\n",
        "from pyspark.sql.functions import udf\n",
        "from pyspark.sql.types import StringType\n",
        "from unidecode import unidecode\n",
        "\n",
        "# Creamos una UDF\n",
        "quitar_tildes_udf = udf(lambda texto: unidecode(texto) if texto else texto, StringType())\n",
        "\n",
        "# Aplicar la UDF a las columnas con caracteres acentuados\n",
        "df_empresas_limpio = df_empresas.withColumn(\"sector_2\", quitar_tildes_udf(df_empresas[\"sector\"])).withColumn(\"pais_2\", quitar_tildes_udf(df_empresas[\"pais\"])).drop(\"sector\", \"pais\")\n",
        "\n",
        "# Al eliminar anteriormente las columnas sector y pais, renombro las nuevas que agregue sin tildes con el nombre de columna original.\n",
        "df_empresas_limpio = df_empresas_limpio.withColumnRenamed(\"sector_2\", \"sector\").withColumnRenamed(\"pais_2\", \"pais\")\n",
        "\n",
        "# Mostrar el resultado limpio\n",
        "df_empresas_limpio.show()\n"
      ],
      "metadata": {
        "id": "GlccEeRSfmwn",
        "colab": {
          "base_uri": "https://localhost:8080/"
        },
        "outputId": "cab77cf8-2523-4d43-b6d0-5fdf6695d4f4"
      },
      "execution_count": 55,
      "outputs": [
        {
          "output_type": "stream",
          "name": "stdout",
          "text": [
            "Requirement already satisfied: unidecode in /usr/local/lib/python3.11/dist-packages (1.3.8)\n",
            "+----------+----------+---------------+-------------+----------------------+-----------+-------+\n",
            "|empresa_id|    nombre|consumo_energia|emisiones_co2|certificacion_iso14001|     sector|   pais|\n",
            "+----------+----------+---------------+-------------+----------------------+-----------+-------+\n",
            "| EMP000000| Empresa_0|        44404.7|       3217.3|                     0|    Energia| Canada|\n",
            "| EMP000001| Empresa_1|       25576.11|      16135.7|                     1|   Finanzas|  China|\n",
            "| EMP000002| Empresa_2|       29305.07|      2224.93|                     0|      Salud|  Japon|\n",
            "| EMP000003| Empresa_3|       44600.25|      3764.32|                     1| Transporte|  China|\n",
            "| EMP000004| Empresa_4|       46039.63|     11840.17|                     1| Tecnologia|Francia|\n",
            "| EMP000005| Empresa_5|       41988.85|      5665.54|                     1|Manufactura| Canada|\n",
            "| EMP000006| Empresa_6|        2793.22|      3871.34|                     0|    Energia|  China|\n",
            "| EMP000007| Empresa_7|       25219.96|       9487.0|                     0| Transporte| Brasil|\n",
            "| EMP000008| Empresa_8|       36890.97|     14023.38|                     1|   Finanzas| Espana|\n",
            "| EMP000009| Empresa_9|        6868.81|      13398.5|                     1|    Energia|  China|\n",
            "| EMP000010|Empresa_10|       40337.87|     18862.97|                     0|      Salud|   EEUU|\n",
            "| EMP000011|Empresa_11|       33590.41|     14316.45|                     1|    Energia|  China|\n",
            "| EMP000012|Empresa_12|       24567.02|      1807.39|                     0|Manufactura| Canada|\n",
            "| EMP000013|Empresa_13|       20055.81|     10699.79|                     1| Tecnologia|   EEUU|\n",
            "| EMP000014|Empresa_14|       11309.87|      1796.63|                     0|Manufactura|  China|\n",
            "| EMP000015|Empresa_15|       42781.21|      1310.71|                     0|    Energia|  India|\n",
            "| EMP000016|Empresa_16|       43144.59|     14768.45|                     1|   Finanzas| Brasil|\n",
            "| EMP000017|Empresa_17|       13942.37|      7130.42|                     1| Tecnologia| Canada|\n",
            "| EMP000018|Empresa_18|        6546.26|      1030.54|                     1|    Energia|  India|\n",
            "| EMP000019|Empresa_19|        1718.49|     13029.69|                     1|      Salud| Canada|\n",
            "+----------+----------+---------------+-------------+----------------------+-----------+-------+\n",
            "only showing top 20 rows\n",
            "\n"
          ]
        }
      ]
    },
    {
      "cell_type": "code",
      "source": [
        "# Compruebo que lo hizo bien\n",
        "\n",
        "df_empresas_limpio.printSchema()\n",
        "print(df_empresas_limpio.count())"
      ],
      "metadata": {
        "colab": {
          "base_uri": "https://localhost:8080/"
        },
        "id": "VJZfVEVt5ior",
        "outputId": "a7626dfa-a6ee-45da-f245-d1e13cfdcea4"
      },
      "execution_count": 74,
      "outputs": [
        {
          "output_type": "stream",
          "name": "stdout",
          "text": [
            "root\n",
            " |-- empresa_id: string (nullable = true)\n",
            " |-- nombre: string (nullable = true)\n",
            " |-- consumo_energia: double (nullable = true)\n",
            " |-- emisiones_co2: double (nullable = true)\n",
            " |-- certificacion_iso14001: integer (nullable = true)\n",
            " |-- sector: string (nullable = true)\n",
            " |-- pais: string (nullable = true)\n",
            "\n",
            "24627\n"
          ]
        }
      ]
    },
    {
      "cell_type": "code",
      "source": [
        "df_empresas_limpio.groupBy('sector').count().show()\n",
        "df_empresas_limpio.groupBy('pais').count().show()"
      ],
      "metadata": {
        "colab": {
          "base_uri": "https://localhost:8080/"
        },
        "id": "dwU1AQ2r6YX_",
        "outputId": "b2933e15-d265-4f62-dbfa-713363f86411"
      },
      "execution_count": 67,
      "outputs": [
        {
          "output_type": "stream",
          "name": "stdout",
          "text": [
            "+------------+-----+\n",
            "|      sector|count|\n",
            "+------------+-----+\n",
            "|       Salud| 3601|\n",
            "| Manufactura| 3604|\n",
            "|    Finanzas| 3542|\n",
            "|Construccion| 3551|\n",
            "|     Energia| 3443|\n",
            "|  Transporte| 3453|\n",
            "|  Tecnologia| 3433|\n",
            "+------------+-----+\n",
            "\n",
            "+--------+-----+\n",
            "|    pais|count|\n",
            "+--------+-----+\n",
            "| Francia| 2448|\n",
            "|   China| 2422|\n",
            "|   India| 2488|\n",
            "|Alemania| 2469|\n",
            "|  Mexico| 2474|\n",
            "|   Japon| 2508|\n",
            "|  Espana| 2453|\n",
            "|    EEUU| 2448|\n",
            "|  Canada| 2446|\n",
            "|  Brasil| 2471|\n",
            "+--------+-----+\n",
            "\n"
          ]
        }
      ]
    },
    {
      "cell_type": "markdown",
      "source": [
        "#### Obervaciones:\n",
        "\n",
        "- Corregí los campos de las variables sector y país que contenían tíldes para facilitar posibles cruces futuros, agregaciones, etc, y tener homogenización en los nombres.\n",
        "\n",
        "- Al agrupar por pais y sector evidencio que no existen incoherencias, no hay un pais que salga duplicado por que en un caso tenga tilde y en otro caso no, mismo caso con sector. Es decir la udf se hizo bien."
      ],
      "metadata": {
        "id": "1gQOt3Na5x2g"
      }
    },
    {
      "cell_type": "code",
      "source": [
        "# Habiendo realizado la limpieza del primer dataset junto con su EDA, exportamos el data set limpio,\n",
        "#el cual será la entrada del siguiente proceso para llegar a las tablas de salida deseadas\n",
        "\n",
        "df_empresas_limpio.write.parquet(\"/content/empresas_limpio.parquet\")"
      ],
      "metadata": {
        "id": "zVV7ZwaI8vLa"
      },
      "execution_count": 69,
      "outputs": []
    },
    {
      "cell_type": "markdown",
      "source": [
        "------\n",
        "------"
      ],
      "metadata": {
        "id": "KkSqT3U3UqoP"
      }
    },
    {
      "cell_type": "markdown",
      "source": [
        "## **EDA para csv proyectos**"
      ],
      "metadata": {
        "id": "jjSz7DRLfNKm"
      }
    },
    {
      "cell_type": "markdown",
      "source": [
        "___________________"
      ],
      "metadata": {
        "id": "dmJbHMwmfr8Q"
      }
    },
    {
      "cell_type": "code",
      "source": [
        "#Leemos el  data frame de proyectos\n",
        "df_proyectos= spark.read.csv(\"/content/Proyectos_Energeticos.csv\", header=True, inferSchema=True)\n",
        "df_proyectos.show()"
      ],
      "metadata": {
        "id": "w3q3pKtnHAN_",
        "colab": {
          "base_uri": "https://localhost:8080/"
        },
        "outputId": "5bb33a31-54d1-4b44-a5da-f462e4f94fa6"
      },
      "execution_count": 42,
      "outputs": [
        {
          "output_type": "stream",
          "name": "stdout",
          "text": [
            "+-----------+----------+--------------+--------------------+-------------------+--------------+---------------+\n",
            "|proyecto_id|empresa_id|  tipo_energia|capacidad_generacion|reduccion_emisiones|costo_proyecto|estado_proyecto|\n",
            "+-----------+----------+--------------+--------------------+-------------------+--------------+---------------+\n",
            "| PROJ000000| EMP016520|         Solar|             9131.06|            2270.88|         26.03|         Activo|\n",
            "| PROJ000001| EMP012923|         Solar|             2164.32|             4886.1|        364.36|     Finalizado|\n",
            "| PROJ000002| EMP023136|       Biomasa|             2374.24|              446.3|        190.17|  En desarrollo|\n",
            "| PROJ000003| EMP004436|    Geotérmica|             4065.11|            4465.83|         126.6|     Finalizado|\n",
            "| PROJ000004| EMP021681|        Eólica|             4581.51|            3280.46|        227.13|         Activo|\n",
            "| PROJ000005| EMP024018|    Geotérmica|             6000.17|            4752.33|          88.9|         Activo|\n",
            "| PROJ000006| EMP012238|        Eólica|             2984.04|            1969.57|        251.01|     Finalizado|\n",
            "| PROJ000007| EMP020520|Hidroeléctrica|             8502.92|            4180.16|        220.96|     Finalizado|\n",
            "| PROJ000008| EMP012169|Hidroeléctrica|             1057.63|            3538.61|        153.18|     Finalizado|\n",
            "| PROJ000009| EMP000629|    Geotérmica|             5620.21|              176.3|        289.48|         Activo|\n",
            "| PROJ000010| EMP004803|       Biomasa|             8341.52|            3469.38|        431.89|     Finalizado|\n",
            "| PROJ000011| EMP003152|       Biomasa|              584.91|            4059.04|        444.35|         Activo|\n",
            "| PROJ000012| EMP008983|    Geotérmica|             4053.83|            2328.98|         39.46|     Finalizado|\n",
            "| PROJ000013| EMP010936|        Eólica|             9811.93|            4614.99|         351.1|  En desarrollo|\n",
            "| PROJ000014| EMP009367|Hidroeléctrica|             6886.96|             773.28|        477.44|         Activo|\n",
            "| PROJ000015| EMP000110|       Biomasa|             7772.69|               24.2|         387.8|  En desarrollo|\n",
            "| PROJ000016| EMP003807|        Eólica|             1688.12|              260.0|         60.53|         Activo|\n",
            "| PROJ000017| EMP014653|Hidroeléctrica|             5412.19|             450.83|         99.14|  En desarrollo|\n",
            "| PROJ000018| EMP005826|Hidroeléctrica|             2759.48|             616.52|        386.56|         Activo|\n",
            "| PROJ000019| EMP000435|         Solar|             4307.75|            3257.83|        296.08|     Finalizado|\n",
            "+-----------+----------+--------------+--------------------+-------------------+--------------+---------------+\n",
            "only showing top 20 rows\n",
            "\n"
          ]
        }
      ]
    },
    {
      "cell_type": "code",
      "source": [
        "# Mostramos el esquema y el numero de filas\n",
        "df_proyectos.printSchema()\n",
        "print(\"Numero de filas: \", df_proyectos.count())"
      ],
      "metadata": {
        "id": "10CxnJaYHAQs",
        "colab": {
          "base_uri": "https://localhost:8080/"
        },
        "outputId": "19143dd4-3c7e-4302-b1f1-33c2a29ec77c"
      },
      "execution_count": 43,
      "outputs": [
        {
          "output_type": "stream",
          "name": "stdout",
          "text": [
            "root\n",
            " |-- proyecto_id: string (nullable = true)\n",
            " |-- empresa_id: string (nullable = true)\n",
            " |-- tipo_energia: string (nullable = true)\n",
            " |-- capacidad_generacion: double (nullable = true)\n",
            " |-- reduccion_emisiones: double (nullable = true)\n",
            " |-- costo_proyecto: double (nullable = true)\n",
            " |-- estado_proyecto: string (nullable = true)\n",
            "\n",
            "Numero de filas:  25808\n"
          ]
        }
      ]
    },
    {
      "cell_type": "markdown",
      "source": [
        "#### Observaciones:\n",
        "\n",
        "- Tenemos 25808 registros en este dataframe\n",
        "\n",
        "- Observamos que el tipo de las variables estas correctamente asignado, es decir no se tiene un string en alguna de las variables que debe ser numerica, lo cual nos indica que esas columnas estan correctamente compuestas por valores numericos en todas sus filas.\n",
        "\n",
        "- Vemos que en la columna tipo de energía se tienen valores con tildes, lo cual puede representar un posible inconveniente futuro por lo cual deberiamos homogenizar esto."
      ],
      "metadata": {
        "id": "phYPQHNP_ScI"
      }
    },
    {
      "cell_type": "code",
      "source": [
        "# Reviso si hay duplicados agrupando por todos los campos y muestro los registros duplicados\n",
        "df_proyectos.groupBy('proyecto_id','empresa_id','tipo_energia','capacidad_generacion','reduccion_emisiones',\n",
        "                     'costo_proyecto','estado_proyecto').count().filter(F.col('count')>1).show()"
      ],
      "metadata": {
        "id": "AaBCJ80AHAS_",
        "colab": {
          "base_uri": "https://localhost:8080/"
        },
        "outputId": "ad3c327f-567a-4eee-8228-4850e6781e7b"
      },
      "execution_count": 44,
      "outputs": [
        {
          "output_type": "stream",
          "name": "stdout",
          "text": [
            "+-----------+----------+------------+--------------------+-------------------+--------------+---------------+-----+\n",
            "|proyecto_id|empresa_id|tipo_energia|capacidad_generacion|reduccion_emisiones|costo_proyecto|estado_proyecto|count|\n",
            "+-----------+----------+------------+--------------------+-------------------+--------------+---------------+-----+\n",
            "+-----------+----------+------------+--------------------+-------------------+--------------+---------------+-----+\n",
            "\n"
          ]
        }
      ]
    },
    {
      "cell_type": "markdown",
      "source": [
        "##### Obervaciones:\n",
        "\n",
        "- Agrupamos por todos los campos y usamos una función de agregación en este caso count, que nos dara la cantidad de veces que un registro se repite en el dataframe. Filtramos los que se repitan mas de una vez y vemos que el DataFrame esta vacío.\n",
        "\n",
        "- Al no tener registros duplicados, mantenemos todo igual y procedemos a seguir limpiando los datos con posteriores validaciones según corresponda"
      ],
      "metadata": {
        "id": "HU4-Y0KpAGoA"
      }
    },
    {
      "cell_type": "code",
      "source": [
        "# verificamos cuantos valores nulos hay en cada columna del Data frame\n",
        "df_proyectos.select([\n",
        "    F.sum(F.col(c).isNull().cast(\"int\")).alias(c) for c in df_proyectos.columns\n",
        "]).show()"
      ],
      "metadata": {
        "id": "8-YE3Tq1G-XR",
        "colab": {
          "base_uri": "https://localhost:8080/"
        },
        "outputId": "0281400e-c0b5-4441-f00a-a6e9a4e0d3e2"
      },
      "execution_count": 45,
      "outputs": [
        {
          "output_type": "stream",
          "name": "stdout",
          "text": [
            "+-----------+----------+------------+--------------------+-------------------+--------------+---------------+\n",
            "|proyecto_id|empresa_id|tipo_energia|capacidad_generacion|reduccion_emisiones|costo_proyecto|estado_proyecto|\n",
            "+-----------+----------+------------+--------------------+-------------------+--------------+---------------+\n",
            "|          0|         0|           0|                   0|                  0|             0|              0|\n",
            "+-----------+----------+------------+--------------------+-------------------+--------------+---------------+\n",
            "\n"
          ]
        }
      ]
    },
    {
      "cell_type": "markdown",
      "source": [
        "##### Obervaciones:\n",
        "\n",
        "- Revisamos la cantidad de valores nulos en cada columna. Vemos que las variables no tienen valores nulos en sus filas, por lo que no eliminamos ni tratamos ningun registro"
      ],
      "metadata": {
        "id": "UToUCx03_9j6"
      }
    },
    {
      "cell_type": "code",
      "source": [
        "# En este caso calculamos los principales estadisticos descriptivos para las variables numericas.\n",
        "df_stats_proyectos= df_proyectos.describe(['capacidad_generacion','reduccion_emisiones','costo_proyecto'])\n",
        "df_stats_proyectos.show()"
      ],
      "metadata": {
        "id": "HJ5RWVQVG-fb",
        "colab": {
          "base_uri": "https://localhost:8080/"
        },
        "outputId": "40152345-7edf-4c3c-a1cb-f9c237e6cf9a"
      },
      "execution_count": 46,
      "outputs": [
        {
          "output_type": "stream",
          "name": "stdout",
          "text": [
            "+-------+--------------------+-------------------+------------------+\n",
            "|summary|capacidad_generacion|reduccion_emisiones|    costo_proyecto|\n",
            "+-------+--------------------+-------------------+------------------+\n",
            "|  count|               25808|              25808|             25808|\n",
            "|   mean|   5003.872536810285| 2508.4762069900694|  249.533842606942|\n",
            "| stddev|   2876.700983685695| 1449.0394033001737|143.85286607274932|\n",
            "|    min|               50.01|               5.34|              0.11|\n",
            "|    max|             9999.73|            4999.42|             500.0|\n",
            "+-------+--------------------+-------------------+------------------+\n",
            "\n"
          ]
        }
      ]
    },
    {
      "cell_type": "code",
      "source": [
        "import matplotlib.pyplot as plt\n",
        "\n",
        "# Convertir los datos de PySpark a Pandas para graficar\n",
        "df_pandas = df_proyectos.select(\"capacidad_generacion\", \"reduccion_emisiones\", \"costo_proyecto\").toPandas()\n",
        "\n",
        "# Crear subgráficos (1 fila, 3 columnas)\n",
        "fig, axes = plt.subplots(1, 3, figsize=(18, 5))  # 1 fila, 3 columnas\n",
        "\n",
        "# Histograma de consumo de energía\n",
        "axes[0].hist(df_pandas[\"capacidad_generacion\"], bins=90, alpha=0.5)\n",
        "axes[0].set_xlabel(\"Capacidad Generacion\")\n",
        "axes[0].set_ylabel(\"Frecuencia\")\n",
        "axes[0].set_title(\"Distribución de Capacidad de generación\")\n",
        "axes[0].grid()\n",
        "\n",
        "# Histograma de emisiones de CO2\n",
        "axes[1].hist(df_pandas[\"reduccion_emisiones\"], bins=90, alpha=0.5, color='r')\n",
        "axes[1].set_xlabel(\"Reduccion emisiones\")\n",
        "axes[1].set_ylabel(\"Frecuencia\")\n",
        "axes[1].set_title(\"Distribución de reducción de emisiones\")\n",
        "axes[1].grid()\n",
        "\n",
        "# Histograma de la nueva variable\n",
        "axes[2].hist(df_pandas[\"costo_proyecto\"], bins=90, alpha=0.5, color='g')\n",
        "axes[2].set_xlabel(\"Costo_proyecto\")\n",
        "axes[2].set_ylabel(\"Frecuencia\")\n",
        "axes[2].set_title(\"Distribución de Costo de proyecto\")\n",
        "axes[2].grid()\n",
        "\n",
        "# Ajustar diseño para evitar superposiciones\n",
        "plt.tight_layout()\n",
        "\n",
        "# Mostrar gráfico\n",
        "plt.show()\n"
      ],
      "metadata": {
        "id": "36XyhSHSTYRq",
        "colab": {
          "base_uri": "https://localhost:8080/",
          "height": 344
        },
        "outputId": "b5274dce-b562-4607-9eac-b179691e4b3d"
      },
      "execution_count": 91,
      "outputs": [
        {
          "output_type": "display_data",
          "data": {
            "text/plain": [
              "<Figure size 1800x500 with 3 Axes>"
            ],
            "image/png": "[encoded data removed]"
          },
          "metadata": {}
        }
      ]
    },
    {
      "cell_type": "markdown",
      "source": [
        "##### Obervaciones:\n",
        "\n",
        "- Calculamos los principales estadísticos desctiptivos para la media para las tres variables numericas que tenemos.\n",
        "\n",
        "- Observamos graficamente que en los 3 casos la distribución de los datos no esta sesgada hacia ningún lado. Se tienen valores en proporciones muy similares a lo largo del rango de cada variable, lo que quiere decir que cada variable numerica en el dataset esta relativamente equilibrada entre magnitudes con valores bajos y altos"
      ],
      "metadata": {
        "id": "JfzJnfFuAcJr"
      }
    },
    {
      "cell_type": "code",
      "source": [
        "# Procedemos a corregir las tildes de la columna tipo de energia\n",
        "\n",
        "# Aplicar la UDF definida anteriormente a la columna mencionada\n",
        "df_proyectos_limpio = df_proyectos.withColumn(\"tipo_energia_2\", quitar_tildes_udf(df_proyectos[\"tipo_energia\"])).drop(\"tipo_energia\")\n",
        "\n",
        "# Renombro la nueva columna que agregue sin tildes con el nombre de columna original.\n",
        "df_proyectos_limpio = df_proyectos_limpio.withColumnRenamed(\"tipo_energia_2\",\"tipo_energia\")\n",
        "\n",
        "# Mostrar el resultado limpio\n",
        "df_proyectos_limpio.show()\n"
      ],
      "metadata": {
        "id": "KgK4PaUtTYT6",
        "colab": {
          "base_uri": "https://localhost:8080/"
        },
        "outputId": "ed35c951-9fb4-4096-ba35-596bf0dccd5c"
      },
      "execution_count": 73,
      "outputs": [
        {
          "output_type": "stream",
          "name": "stdout",
          "text": [
            "+-----------+----------+--------------------+-------------------+--------------+---------------+--------------+\n",
            "|proyecto_id|empresa_id|capacidad_generacion|reduccion_emisiones|costo_proyecto|estado_proyecto|  tipo_energia|\n",
            "+-----------+----------+--------------------+-------------------+--------------+---------------+--------------+\n",
            "| PROJ000000| EMP016520|             9131.06|            2270.88|         26.03|         Activo|         Solar|\n",
            "| PROJ000001| EMP012923|             2164.32|             4886.1|        364.36|     Finalizado|         Solar|\n",
            "| PROJ000002| EMP023136|             2374.24|              446.3|        190.17|  En desarrollo|       Biomasa|\n",
            "| PROJ000003| EMP004436|             4065.11|            4465.83|         126.6|     Finalizado|    Geotermica|\n",
            "| PROJ000004| EMP021681|             4581.51|            3280.46|        227.13|         Activo|        Eolica|\n",
            "| PROJ000005| EMP024018|             6000.17|            4752.33|          88.9|         Activo|    Geotermica|\n",
            "| PROJ000006| EMP012238|             2984.04|            1969.57|        251.01|     Finalizado|        Eolica|\n",
            "| PROJ000007| EMP020520|             8502.92|            4180.16|        220.96|     Finalizado|Hidroelectrica|\n",
            "| PROJ000008| EMP012169|             1057.63|            3538.61|        153.18|     Finalizado|Hidroelectrica|\n",
            "| PROJ000009| EMP000629|             5620.21|              176.3|        289.48|         Activo|    Geotermica|\n",
            "| PROJ000010| EMP004803|             8341.52|            3469.38|        431.89|     Finalizado|       Biomasa|\n",
            "| PROJ000011| EMP003152|              584.91|            4059.04|        444.35|         Activo|       Biomasa|\n",
            "| PROJ000012| EMP008983|             4053.83|            2328.98|         39.46|     Finalizado|    Geotermica|\n",
            "| PROJ000013| EMP010936|             9811.93|            4614.99|         351.1|  En desarrollo|        Eolica|\n",
            "| PROJ000014| EMP009367|             6886.96|             773.28|        477.44|         Activo|Hidroelectrica|\n",
            "| PROJ000015| EMP000110|             7772.69|               24.2|         387.8|  En desarrollo|       Biomasa|\n",
            "| PROJ000016| EMP003807|             1688.12|              260.0|         60.53|         Activo|        Eolica|\n",
            "| PROJ000017| EMP014653|             5412.19|             450.83|         99.14|  En desarrollo|Hidroelectrica|\n",
            "| PROJ000018| EMP005826|             2759.48|             616.52|        386.56|         Activo|Hidroelectrica|\n",
            "| PROJ000019| EMP000435|             4307.75|            3257.83|        296.08|     Finalizado|         Solar|\n",
            "+-----------+----------+--------------------+-------------------+--------------+---------------+--------------+\n",
            "only showing top 20 rows\n",
            "\n"
          ]
        }
      ]
    },
    {
      "cell_type": "code",
      "source": [
        "# Compruebo que lo hizo bien\n",
        "\n",
        "df_proyectos_limpio.printSchema()\n",
        "print(df_proyectos_limpio.count())"
      ],
      "metadata": {
        "id": "aoE2ozkwTYV6",
        "colab": {
          "base_uri": "https://localhost:8080/"
        },
        "outputId": "666b7779-e491-495c-b69b-b29026bf6848"
      },
      "execution_count": 76,
      "outputs": [
        {
          "output_type": "stream",
          "name": "stdout",
          "text": [
            "root\n",
            " |-- proyecto_id: string (nullable = true)\n",
            " |-- empresa_id: string (nullable = true)\n",
            " |-- capacidad_generacion: double (nullable = true)\n",
            " |-- reduccion_emisiones: double (nullable = true)\n",
            " |-- costo_proyecto: double (nullable = true)\n",
            " |-- estado_proyecto: string (nullable = true)\n",
            " |-- tipo_energia: string (nullable = true)\n",
            "\n",
            "25808\n"
          ]
        }
      ]
    },
    {
      "cell_type": "code",
      "source": [
        "df_proyectos_limpio.groupBy('tipo_energia').count().show()\n"
      ],
      "metadata": {
        "id": "-T219keJTYYD",
        "colab": {
          "base_uri": "https://localhost:8080/"
        },
        "outputId": "2eb9b008-87dd-41c6-b784-72ede7c88e24"
      },
      "execution_count": 75,
      "outputs": [
        {
          "output_type": "stream",
          "name": "stdout",
          "text": [
            "+--------------+-----+\n",
            "|  tipo_energia|count|\n",
            "+--------------+-----+\n",
            "|Hidroelectrica| 5169|\n",
            "|    Geotermica| 5278|\n",
            "|         Solar| 4988|\n",
            "|        Eolica| 5186|\n",
            "|       Biomasa| 5187|\n",
            "+--------------+-----+\n",
            "\n"
          ]
        }
      ]
    },
    {
      "cell_type": "markdown",
      "source": [
        "#### Obervaciones:\n",
        "\n",
        "- Corregí los campos de la variable tipo energia que contenían tíldes para facilitar posibles cruces futuros, agregaciones, etc, y tener homogenización en los nombres.\n",
        "\n",
        "- Al agrupar por dicho campo evidencio que no existen incoherencias, no hay tipo de energia que salga duplicado por que en un caso tenga tilde y en otro caso no. Es decir la udf se hizo bien."
      ],
      "metadata": {
        "id": "8DBdJ0eYRMIj"
      }
    },
    {
      "cell_type": "code",
      "source": [
        "# Habiendo realizado la limpieza del segundo dataset junto con su EDA, exportamos el data set limpio,\n",
        "#el cual será la entrada del siguiente proceso para llegar a las tablas de salida deseadas\n",
        "\n",
        "df_proyectos_limpio.write.parquet(\"/content/proyectos_limpio.parquet\")"
      ],
      "metadata": {
        "id": "H0glZB3MRLOB"
      },
      "execution_count": 79,
      "outputs": []
    },
    {
      "cell_type": "markdown",
      "source": [
        "_____________\n",
        "________"
      ],
      "metadata": {
        "id": "HE292XRbSZgN"
      }
    },
    {
      "cell_type": "markdown",
      "source": [
        "## **EDA para csv Regulaciones Ambientales**"
      ],
      "metadata": {
        "id": "W1sRlmpmSa1x"
      }
    },
    {
      "cell_type": "markdown",
      "source": [
        "____________"
      ],
      "metadata": {
        "id": "86nFdwezSlER"
      }
    },
    {
      "cell_type": "code",
      "source": [
        "# Leemos el data frame regulaciones\n",
        "\n",
        "df_regulaciones= spark.read.csv(\"/content/Regulaciones_Ambientales.csv\", header=True, inferSchema=True)\n",
        "df_regulaciones.show()"
      ],
      "metadata": {
        "colab": {
          "base_uri": "https://localhost:8080/"
        },
        "id": "LxFm3uATRcWw",
        "outputId": "5e1991a1-e501-485e-ada3-fa2488bf3080"
      },
      "execution_count": 80,
      "outputs": [
        {
          "output_type": "stream",
          "name": "stdout",
          "text": [
            "+-------------+--------+----------------+--------------------+----------------+\n",
            "|regulacion_id|    pais|limite_emisiones|subsidios_renovables|impuesto_carbono|\n",
            "+-------------+--------+----------------+--------------------+----------------+\n",
            "|    REG000000|   India|         3012.63|                   1|           19.54|\n",
            "|    REG000001|    EEUU|         7325.54|                   1|           42.41|\n",
            "|    REG000002|Alemania|         9060.84|                   1|            6.15|\n",
            "|    REG000003|  España|         7075.95|                   1|           44.65|\n",
            "|    REG000004|Alemania|         1997.42|                   0|            8.75|\n",
            "|    REG000005|  Canadá|         1863.48|                   0|           22.81|\n",
            "|    REG000006|  España|         2415.03|                   1|            9.39|\n",
            "|    REG000007|    EEUU|         12209.9|                   1|           33.85|\n",
            "|    REG000008| Francia|         8630.52|                   1|           42.94|\n",
            "|    REG000009| Francia|         3833.05|                   0|            15.0|\n",
            "|    REG000010|  Brasil|         8952.65|                   0|           16.84|\n",
            "|    REG000011|  México|        14631.68|                   0|            6.33|\n",
            "|    REG000012| Francia|        10452.25|                   0|           38.02|\n",
            "|    REG000013|  Brasil|         1786.19|                   0|           22.71|\n",
            "|    REG000014|  México|         8126.06|                   1|           15.45|\n",
            "|    REG000015|Alemania|        14852.44|                   0|           16.17|\n",
            "|    REG000016|   Japón|        10567.62|                   0|             6.4|\n",
            "|    REG000017|   Japón|        10383.98|                   1|           35.88|\n",
            "|    REG000018|  España|         7321.48|                   0|            20.7|\n",
            "|    REG000019|   China|         1305.08|                   0|           45.75|\n",
            "+-------------+--------+----------------+--------------------+----------------+\n",
            "only showing top 20 rows\n",
            "\n"
          ]
        }
      ]
    },
    {
      "cell_type": "code",
      "source": [
        "df_regulaciones.printSchema()\n",
        "print(\"Numero de filas: \", df_regulaciones.count())"
      ],
      "metadata": {
        "colab": {
          "base_uri": "https://localhost:8080/"
        },
        "id": "CC3Qa5UaRaq4",
        "outputId": "b32cd749-de54-4cd1-9c70-ffeb8f4a8f11"
      },
      "execution_count": 81,
      "outputs": [
        {
          "output_type": "stream",
          "name": "stdout",
          "text": [
            "root\n",
            " |-- regulacion_id: string (nullable = true)\n",
            " |-- pais: string (nullable = true)\n",
            " |-- limite_emisiones: double (nullable = true)\n",
            " |-- subsidios_renovables: integer (nullable = true)\n",
            " |-- impuesto_carbono: double (nullable = true)\n",
            "\n",
            "Numero de filas:  29707\n"
          ]
        }
      ]
    },
    {
      "cell_type": "markdown",
      "source": [
        "#### Observaciones:\n",
        "\n",
        "- Tenemos 29707 registros en este dataframe\n",
        "\n",
        "- Observamos que el tipo de las variables estas correctamente asignado, es decir no se tiene un string en alguna de las variables que debe ser numerica, lo cual nos indica que esas columnas estan correctamente compuestas por valores numericos en todas sus filas.\n",
        "\n",
        "- Vemos que en la columna pais se tienen valores con tildes, lo cual puede representar un posible inconveniente futuro por lo cual deberiamos homogenizar esto."
      ],
      "metadata": {
        "id": "8FuEH50PTEVr"
      }
    },
    {
      "cell_type": "code",
      "source": [
        "# Reviso si hay duplicados agrupando por todos los campos y muestro los registros duplicados\n",
        "df_regulaciones.groupBy('regulacion_id','pais','limite_emisiones','subsidios_renovables','impuesto_carbono').count().filter(F.col('count')>1).show()"
      ],
      "metadata": {
        "colab": {
          "base_uri": "https://localhost:8080/"
        },
        "id": "JsDwOrizRatY",
        "outputId": "d89d64f9-35d4-428d-bdcc-f3a940d68899"
      },
      "execution_count": 84,
      "outputs": [
        {
          "output_type": "stream",
          "name": "stdout",
          "text": [
            "+-------------+----+----------------+--------------------+----------------+-----+\n",
            "|regulacion_id|pais|limite_emisiones|subsidios_renovables|impuesto_carbono|count|\n",
            "+-------------+----+----------------+--------------------+----------------+-----+\n",
            "+-------------+----+----------------+--------------------+----------------+-----+\n",
            "\n"
          ]
        }
      ]
    },
    {
      "cell_type": "markdown",
      "source": [
        "##### Obervaciones:\n",
        "\n",
        "- Agrupamos por todos los campos y usamos una función de agregación en este caso count, que nos dara la cantidad de veces que un registro se repite en el dataframe. Filtramos los que se repitan mas de una vez y vemos que el DataFrame esta vacío.\n",
        "\n",
        "- Al no tener registros duplicados, mantenemos todo igual y procedemos a seguir limpiando los datos con posteriores validaciones según corresponda"
      ],
      "metadata": {
        "id": "pxnNkyEGUDIP"
      }
    },
    {
      "cell_type": "code",
      "source": [
        "# verificamos cuantos valores nulos hay en cada columna del Data frame\n",
        "df_regulaciones.select([\n",
        "    F.sum(F.col(c).isNull().cast(\"int\")).alias(c) for c in df_regulaciones.columns\n",
        "]).show()"
      ],
      "metadata": {
        "colab": {
          "base_uri": "https://localhost:8080/"
        },
        "id": "bZuLyAWyUQwm",
        "outputId": "aa1479a7-3908-4a10-f273-8150f90284bf"
      },
      "execution_count": 85,
      "outputs": [
        {
          "output_type": "stream",
          "name": "stdout",
          "text": [
            "+-------------+----+----------------+--------------------+----------------+\n",
            "|regulacion_id|pais|limite_emisiones|subsidios_renovables|impuesto_carbono|\n",
            "+-------------+----+----------------+--------------------+----------------+\n",
            "|            0|   0|               0|                   0|               0|\n",
            "+-------------+----+----------------+--------------------+----------------+\n",
            "\n"
          ]
        }
      ]
    },
    {
      "cell_type": "markdown",
      "source": [
        "##### Obervaciones:\n",
        "\n",
        "- Revisamos la cantidad de valores nulos en cada columna. Vemos que las variables no tienen valores nulos en sus filas, por lo que no eliminamos ni tratamos ningun registro"
      ],
      "metadata": {
        "id": "7ol__D3mT-iv"
      }
    },
    {
      "cell_type": "code",
      "source": [
        "# En este caso calculamos los principales estadisticos descriptivos para las variables numericas.\n",
        "df_stats_regulaciones= df_regulaciones.describe('limite_emisiones','impuesto_carbono')\n",
        "df_stats_regulaciones.show()"
      ],
      "metadata": {
        "colab": {
          "base_uri": "https://localhost:8080/"
        },
        "id": "52wp-M-yRav8",
        "outputId": "6f14aa9c-6e88-4670-8909-9da997c2461b"
      },
      "execution_count": 88,
      "outputs": [
        {
          "output_type": "stream",
          "name": "stdout",
          "text": [
            "+-------+------------------+------------------+\n",
            "|summary|  limite_emisiones|  impuesto_carbono|\n",
            "+-------+------------------+------------------+\n",
            "|  count|             29707|             29707|\n",
            "|   mean| 8005.963699464767|25.677075773386864|\n",
            "| stddev|4053.9336374052987|14.163531219478534|\n",
            "|    min|           1000.25|               1.0|\n",
            "|    max|          14999.98|              50.0|\n",
            "+-------+------------------+------------------+\n",
            "\n"
          ]
        }
      ]
    },
    {
      "cell_type": "code",
      "source": [
        "import matplotlib.pyplot as plt\n",
        "\n",
        "# Convertir el DataFrame de PySpark a Pandas\n",
        "df_pandas = df_regulaciones.select(\"limite_emisiones\", \"impuesto_carbono\").toPandas()\n",
        "\n",
        "# Crear subgráficos: 1 fila, 2 columnas\n",
        "fig, axes = plt.subplots(1, 2, figsize=(14, 5))  # 1 fila, 2 gráficos\n",
        "\n",
        "# Histograma de limite_emisiones\n",
        "axes[0].hist(df_pandas[\"limite_emisiones\"], bins=30, alpha=0.7, color=\"blue\", edgecolor=\"black\")\n",
        "axes[0].set_xlabel(\"Límite de Emisiones\")\n",
        "axes[0].set_ylabel(\"Frecuencia\")\n",
        "axes[0].set_title(\"Distribución de Límite de Emisiones\")\n",
        "axes[0].grid()\n",
        "\n",
        "# Histograma de impuesto_carbono\n",
        "axes[1].hist(df_pandas[\"impuesto_carbono\"], bins=30, alpha=0.7, color=\"red\", edgecolor=\"black\")\n",
        "axes[1].set_xlabel(\"Impuesto al Carbono\")\n",
        "axes[1].set_ylabel(\"Frecuencia\")\n",
        "axes[1].set_title(\"Distribución de Impuesto al Carbono\")\n",
        "axes[1].grid()\n",
        "\n",
        "# Ajustar el layout para evitar solapamientos\n",
        "plt.tight_layout()\n",
        "\n",
        "# Mostrar la gráfica\n",
        "plt.show()\n"
      ],
      "metadata": {
        "colab": {
          "base_uri": "https://localhost:8080/",
          "height": 438
        },
        "id": "tS7394UaUe3N",
        "outputId": "e992a418-ce67-42f0-d1a7-f90c079ebad0"
      },
      "execution_count": 87,
      "outputs": [
        {
          "output_type": "display_data",
          "data": {
            "text/plain": [
              "<Figure size 1400x500 with 2 Axes>"
            ],
            "image/png": "[encoded data removed]"
          },
          "metadata": {}
        }
      ]
    },
    {
      "cell_type": "markdown",
      "source": [
        "##### Obervaciones:\n",
        "\n",
        "- Calculamos los principales estadísticos desctiptivos para la media para las dos variables numericas que tenemos.\n",
        "\n",
        "- Observamos graficamente que en los 2 casos la distribución de los datos no esta sesgada hacia ningún lado. Se tienen valores en proporciones muy similares a lo largo del rango de cada variable, lo que quiere decir que cada variable numerica en el dataset esta relativamente equilibrada entre magnitudes con valores bajos y altos"
      ],
      "metadata": {
        "id": "aFBSF1aSWU1a"
      }
    },
    {
      "cell_type": "code",
      "source": [
        "# Procedemos a corregir las tildes de la columna país\n",
        "\n",
        "# Aplicar la UDF definida anteriormente a la columna mencionada\n",
        "df_regulaciones_limpio = df_regulaciones.withColumn(\"pais_2\", quitar_tildes_udf(df_regulaciones[\"pais\"])).drop(\"pais\")\n",
        "\n",
        "# Renombro la nueva columna que agregue sin tildes con el nombre de columna original.\n",
        "df_regulaciones_limpio = df_regulaciones_limpio.withColumnRenamed(\"pais_2\",\"pais\")\n",
        "\n",
        "# Mostrar el resultado limpio\n",
        "df_regulaciones_limpio.show()"
      ],
      "metadata": {
        "colab": {
          "base_uri": "https://localhost:8080/"
        },
        "id": "hFwZp2yfUe5y",
        "outputId": "8fb5511a-d2b5-4683-dcf8-4047fa08119d"
      },
      "execution_count": 92,
      "outputs": [
        {
          "output_type": "stream",
          "name": "stdout",
          "text": [
            "+-------------+----------------+--------------------+----------------+--------+\n",
            "|regulacion_id|limite_emisiones|subsidios_renovables|impuesto_carbono|    pais|\n",
            "+-------------+----------------+--------------------+----------------+--------+\n",
            "|    REG000000|         3012.63|                   1|           19.54|   India|\n",
            "|    REG000001|         7325.54|                   1|           42.41|    EEUU|\n",
            "|    REG000002|         9060.84|                   1|            6.15|Alemania|\n",
            "|    REG000003|         7075.95|                   1|           44.65|  Espana|\n",
            "|    REG000004|         1997.42|                   0|            8.75|Alemania|\n",
            "|    REG000005|         1863.48|                   0|           22.81|  Canada|\n",
            "|    REG000006|         2415.03|                   1|            9.39|  Espana|\n",
            "|    REG000007|         12209.9|                   1|           33.85|    EEUU|\n",
            "|    REG000008|         8630.52|                   1|           42.94| Francia|\n",
            "|    REG000009|         3833.05|                   0|            15.0| Francia|\n",
            "|    REG000010|         8952.65|                   0|           16.84|  Brasil|\n",
            "|    REG000011|        14631.68|                   0|            6.33|  Mexico|\n",
            "|    REG000012|        10452.25|                   0|           38.02| Francia|\n",
            "|    REG000013|         1786.19|                   0|           22.71|  Brasil|\n",
            "|    REG000014|         8126.06|                   1|           15.45|  Mexico|\n",
            "|    REG000015|        14852.44|                   0|           16.17|Alemania|\n",
            "|    REG000016|        10567.62|                   0|             6.4|   Japon|\n",
            "|    REG000017|        10383.98|                   1|           35.88|   Japon|\n",
            "|    REG000018|         7321.48|                   0|            20.7|  Espana|\n",
            "|    REG000019|         1305.08|                   0|           45.75|   China|\n",
            "+-------------+----------------+--------------------+----------------+--------+\n",
            "only showing top 20 rows\n",
            "\n"
          ]
        }
      ]
    },
    {
      "cell_type": "code",
      "source": [
        "# Compruebo que lo hizo bien\n",
        "\n",
        "df_regulaciones_limpio.printSchema()\n",
        "print(df_regulaciones_limpio.count())"
      ],
      "metadata": {
        "colab": {
          "base_uri": "https://localhost:8080/"
        },
        "id": "mijMqAfTUe8k",
        "outputId": "31cba8fd-4808-4635-b739-84071cf1fe45"
      },
      "execution_count": 93,
      "outputs": [
        {
          "output_type": "stream",
          "name": "stdout",
          "text": [
            "root\n",
            " |-- regulacion_id: string (nullable = true)\n",
            " |-- limite_emisiones: double (nullable = true)\n",
            " |-- subsidios_renovables: integer (nullable = true)\n",
            " |-- impuesto_carbono: double (nullable = true)\n",
            " |-- pais: string (nullable = true)\n",
            "\n",
            "29707\n"
          ]
        }
      ]
    },
    {
      "cell_type": "code",
      "source": [
        "df_regulaciones_limpio.groupBy('pais').count().show()\n"
      ],
      "metadata": {
        "colab": {
          "base_uri": "https://localhost:8080/"
        },
        "id": "fAlr0v2cUfBL",
        "outputId": "6427e99b-62eb-42b8-d11f-1580fb4f2b7a"
      },
      "execution_count": 94,
      "outputs": [
        {
          "output_type": "stream",
          "name": "stdout",
          "text": [
            "+--------+-----+\n",
            "|    pais|count|\n",
            "+--------+-----+\n",
            "| Francia| 3005|\n",
            "|   India| 2896|\n",
            "|   China| 2998|\n",
            "|Alemania| 3038|\n",
            "|  Mexico| 2923|\n",
            "|  Espana| 2942|\n",
            "|   Japon| 3065|\n",
            "|    EEUU| 2973|\n",
            "|  Canada| 2936|\n",
            "|  Brasil| 2931|\n",
            "+--------+-----+\n",
            "\n"
          ]
        }
      ]
    },
    {
      "cell_type": "markdown",
      "source": [
        "#### Obervaciones:\n",
        "\n",
        "- Corregí los campos de la variable pais que contenían tíldes para facilitar posibles cruces futuros, agregaciones, etc, y tener homogenización en los nombres.\n",
        "\n",
        "- Al agrupar por dicho campo evidencio que no existen incoherencias, no hay un pais que salga duplicado por que en un caso tenga tilde y en otro caso no. Es decir la udf se hizo bien."
      ],
      "metadata": {
        "id": "aHhYR5qJX5HZ"
      }
    },
    {
      "cell_type": "code",
      "source": [
        "# Habiendo realizado la limpieza del segundo dataset junto con su EDA, exportamos el data set limpio,\n",
        "#el cual será la entrada del siguiente proceso para llegar a las tablas de salida deseadas\n",
        "\n",
        "df_regulaciones_limpio.write.parquet(\"/content/regulaciones_limpio.parquet\")"
      ],
      "metadata": {
        "id": "LE5JtD0BUfDm"
      },
      "execution_count": 95,
      "outputs": []
    },
    {
      "cell_type": "code",
      "source": [],
      "metadata": {
        "id": "ow_DcxVQUfGC"
      },
      "execution_count": null,
      "outputs": []
    }
  ]
}